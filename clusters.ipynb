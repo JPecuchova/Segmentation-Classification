{
 "cells": [
  {
   "cell_type": "code",
   "execution_count": 1,
   "metadata": {},
   "outputs": [],
   "source": [
    "import numpy as np\n",
    "import pandas as pd\n",
    "import matplotlib.pyplot as plt\n",
    "\n",
    "from sklearn.decomposition import PCA\n",
    "from sklearn.preprocessing import StandardScaler\n",
    "from sklearn import metrics\n",
    "from sklearn.model_selection import ParameterGrid\n",
    "from sklearn.cluster import KMeans\n",
    "from sklearn.preprocessing import LabelEncoder"
   ]
  },
  {
   "cell_type": "code",
   "execution_count": 2,
   "metadata": {},
   "outputs": [],
   "source": [
    "# Dataset loading in pandas dataframe -> scaled & encoded data\n",
    "dataset = pd.read_csv(\"lab_courses_2015.csv\", sep=';')"
   ]
  },
  {
   "cell_type": "code",
   "execution_count": 3,
   "metadata": {},
   "outputs": [
    {
     "name": "stdout",
     "output_type": "stream",
     "text": [
      "There are 216006 rows and 6 columns\n",
      "   component  action  target  contextid  contextlevel  contextinstanceid\n",
      "0          5      10       5     105728            50               1089\n",
      "1         17      10       6     105844            70              67635\n",
      "2          5      10       5     105728            50               1089\n",
      "3          9      10      12     105734            70              67525\n",
      "4          5      10       5     106176            50               1094\n",
      "5          5      10       5     106176            50               1094\n",
      "6          5      10       5     106176            50               1094\n",
      "7         18      10       6     110766            70              70458\n",
      "8          5      10       5     105728            50               1089\n",
      "9         17      10       6     105844            70              67635\n"
     ]
    }
   ],
   "source": [
    "# Checking data shape\n",
    "row, col = dataset.shape\n",
    "print(f'There are {row} rows and {col} columns') \n",
    "print(dataset.head(10))    "
   ]
  },
  {
   "cell_type": "code",
   "execution_count": 4,
   "metadata": {},
   "outputs": [],
   "source": [
    "# To work on copy of the data\n",
    "dataset_scaled = dataset.copy()"
   ]
  },
  {
   "cell_type": "code",
   "execution_count": 5,
   "metadata": {},
   "outputs": [
    {
     "name": "stdout",
     "output_type": "stream",
     "text": [
      "          component        action        target     contextid  contextlevel  \\\n",
      "count  2.160060e+05  2.160060e+05  2.160060e+05  2.160060e+05  2.160060e+05   \n",
      "mean   4.825240e-13 -8.526593e-14 -4.700615e-14 -2.279710e-13  4.432454e-13   \n",
      "std    1.000002e+00  1.000002e+00  1.000002e+00  1.000002e+00  1.000002e+00   \n",
      "min   -1.634216e+00 -8.719580e+00 -1.488072e+00 -1.180162e+00 -1.083591e+00   \n",
      "25%   -8.036008e-01  1.932715e-01 -3.624239e-01 -1.180162e+00 -1.083591e+00   \n",
      "50%    2.701443e-02  1.932715e-01 -3.624239e-01  2.389723e-01  9.228571e-01   \n",
      "75%    2.701443e-02  1.932715e-01  2.004002e-01  1.235776e+00  9.228571e-01   \n",
      "max    2.103553e+00  1.932715e-01  2.733109e+00  1.442257e+00  9.228571e-01   \n",
      "\n",
      "       contextinstanceid  \n",
      "count       2.160060e+05  \n",
      "mean       -2.905845e-13  \n",
      "std         1.000002e+00  \n",
      "min        -9.725989e-01  \n",
      "25%        -9.725989e-01  \n",
      "50%        -1.993837e-01  \n",
      "75%         7.680869e-01  \n",
      "max         1.670854e+00  \n"
     ]
    }
   ],
   "source": [
    "# Scaling the data to keep the different attributes in same range.\n",
    "dataset_scaled[dataset_scaled.columns] = StandardScaler().fit_transform(dataset_scaled)\n",
    "print(dataset_scaled.describe())"
   ]
  },
  {
   "cell_type": "code",
   "execution_count": 6,
   "metadata": {},
   "outputs": [
    {
     "data": {
      "text/html": [
       "<div>\n",
       "<style scoped>\n",
       "    .dataframe tbody tr th:only-of-type {\n",
       "        vertical-align: middle;\n",
       "    }\n",
       "\n",
       "    .dataframe tbody tr th {\n",
       "        vertical-align: top;\n",
       "    }\n",
       "\n",
       "    .dataframe thead th {\n",
       "        text-align: right;\n",
       "    }\n",
       "</style>\n",
       "<table border=\"1\" class=\"dataframe\">\n",
       "  <thead>\n",
       "    <tr style=\"text-align: right;\">\n",
       "      <th></th>\n",
       "      <th>component</th>\n",
       "      <th>action</th>\n",
       "      <th>target</th>\n",
       "      <th>contextid</th>\n",
       "      <th>contextlevel</th>\n",
       "      <th>contextinstanceid</th>\n",
       "    </tr>\n",
       "  </thead>\n",
       "  <tbody>\n",
       "    <tr>\n",
       "      <th>0</th>\n",
       "      <td>-0.803601</td>\n",
       "      <td>0.193271</td>\n",
       "      <td>-0.362424</td>\n",
       "      <td>1.235776</td>\n",
       "      <td>-1.083591</td>\n",
       "      <td>-0.933161</td>\n",
       "    </tr>\n",
       "    <tr>\n",
       "      <th>1</th>\n",
       "      <td>1.688245</td>\n",
       "      <td>0.193271</td>\n",
       "      <td>-0.081012</td>\n",
       "      <td>1.238426</td>\n",
       "      <td>0.922857</td>\n",
       "      <td>1.479027</td>\n",
       "    </tr>\n",
       "    <tr>\n",
       "      <th>2</th>\n",
       "      <td>-0.803601</td>\n",
       "      <td>0.193271</td>\n",
       "      <td>-0.362424</td>\n",
       "      <td>1.235776</td>\n",
       "      <td>-1.083591</td>\n",
       "      <td>-0.933161</td>\n",
       "    </tr>\n",
       "    <tr>\n",
       "      <th>3</th>\n",
       "      <td>0.027014</td>\n",
       "      <td>0.193271</td>\n",
       "      <td>1.607461</td>\n",
       "      <td>1.235913</td>\n",
       "      <td>0.922857</td>\n",
       "      <td>1.475040</td>\n",
       "    </tr>\n",
       "    <tr>\n",
       "      <th>4</th>\n",
       "      <td>-0.803601</td>\n",
       "      <td>0.193271</td>\n",
       "      <td>-0.362424</td>\n",
       "      <td>1.246013</td>\n",
       "      <td>-1.083591</td>\n",
       "      <td>-0.932979</td>\n",
       "    </tr>\n",
       "    <tr>\n",
       "      <th>5</th>\n",
       "      <td>-0.803601</td>\n",
       "      <td>0.193271</td>\n",
       "      <td>-0.362424</td>\n",
       "      <td>1.246013</td>\n",
       "      <td>-1.083591</td>\n",
       "      <td>-0.932979</td>\n",
       "    </tr>\n",
       "    <tr>\n",
       "      <th>6</th>\n",
       "      <td>-0.803601</td>\n",
       "      <td>0.193271</td>\n",
       "      <td>-0.362424</td>\n",
       "      <td>1.246013</td>\n",
       "      <td>-1.083591</td>\n",
       "      <td>-0.932979</td>\n",
       "    </tr>\n",
       "    <tr>\n",
       "      <th>7</th>\n",
       "      <td>1.895899</td>\n",
       "      <td>0.193271</td>\n",
       "      <td>-0.081012</td>\n",
       "      <td>1.350899</td>\n",
       "      <td>0.922857</td>\n",
       "      <td>1.581357</td>\n",
       "    </tr>\n",
       "    <tr>\n",
       "      <th>8</th>\n",
       "      <td>-0.803601</td>\n",
       "      <td>0.193271</td>\n",
       "      <td>-0.362424</td>\n",
       "      <td>1.235776</td>\n",
       "      <td>-1.083591</td>\n",
       "      <td>-0.933161</td>\n",
       "    </tr>\n",
       "    <tr>\n",
       "      <th>9</th>\n",
       "      <td>1.688245</td>\n",
       "      <td>0.193271</td>\n",
       "      <td>-0.081012</td>\n",
       "      <td>1.238426</td>\n",
       "      <td>0.922857</td>\n",
       "      <td>1.479027</td>\n",
       "    </tr>\n",
       "  </tbody>\n",
       "</table>\n",
       "</div>"
      ],
      "text/plain": [
       "   component    action    target  contextid  contextlevel  contextinstanceid\n",
       "0  -0.803601  0.193271 -0.362424   1.235776     -1.083591          -0.933161\n",
       "1   1.688245  0.193271 -0.081012   1.238426      0.922857           1.479027\n",
       "2  -0.803601  0.193271 -0.362424   1.235776     -1.083591          -0.933161\n",
       "3   0.027014  0.193271  1.607461   1.235913      0.922857           1.475040\n",
       "4  -0.803601  0.193271 -0.362424   1.246013     -1.083591          -0.932979\n",
       "5  -0.803601  0.193271 -0.362424   1.246013     -1.083591          -0.932979\n",
       "6  -0.803601  0.193271 -0.362424   1.246013     -1.083591          -0.932979\n",
       "7   1.895899  0.193271 -0.081012   1.350899      0.922857           1.581357\n",
       "8  -0.803601  0.193271 -0.362424   1.235776     -1.083591          -0.933161\n",
       "9   1.688245  0.193271 -0.081012   1.238426      0.922857           1.479027"
      ]
     },
     "execution_count": 6,
     "metadata": {},
     "output_type": "execute_result"
    }
   ],
   "source": [
    "#1. Loading dataset\n",
    "dataset_scaled.head(10)"
   ]
  },
  {
   "cell_type": "code",
   "execution_count": 7,
   "metadata": {},
   "outputs": [
    {
     "name": "stdout",
     "output_type": "stream",
     "text": [
      "Explained variation per principal component: [0.54952458 0.20794695]\n",
      "Cumulative variance explained by 2 principal components: 75.75%\n"
     ]
    }
   ],
   "source": [
    "# Reduce the dimensions of dataset with use of Principal Component Analysis (PCA).\n",
    "pca_2 = PCA(n_components=2)\n",
    "pca_2_result = pca_2.fit_transform(dataset_scaled)\n",
    "print('Explained variation per principal component: {}'.format(pca_2.explained_variance_ratio_))\n",
    "print('Cumulative variance explained by 2 principal components: {:.2%}'.format(\n",
    "np.sum(pca_2.explained_variance_ratio_)))"
   ]
  },
  {
   "cell_type": "code",
   "execution_count": 8,
   "metadata": {},
   "outputs": [
    {
     "name": "stdout",
     "output_type": "stream",
     "text": [
      "\n",
      "\n",
      "       component    action   target  contextid  contextlevel  contextinstanceid\n",
      "PC_1   0.472440  0.093180  0.04890   0.470343      0.509519           0.533756\n",
      "PC_2   0.317474  0.535157  0.75652   0.056370      0.192524           0.015838\n",
      "\n",
      "*************** Most important features *************************\n",
      "As per PC 1:\n",
      " component            0.472440\n",
      "contextid            0.470343\n",
      "contextlevel         0.509519\n",
      "contextinstanceid    0.533756\n",
      "Name: PC_1, dtype: float64\n",
      "\n",
      "\n",
      "As per PC 2:\n",
      " component    0.317474\n",
      "action       0.535157\n",
      "target       0.756520\n",
      "Name: PC_2, dtype: float64\n",
      "\n",
      "******************************************************************\n"
     ]
    }
   ],
   "source": [
    "# Results from pca.components_\n",
    "dataset_pca = pd.DataFrame(abs(pca_2.components_), columns=dataset_scaled.columns, index=['PC_1', 'PC_2'])\n",
    "print('\\n\\n', dataset_pca)\n",
    "    \n",
    "print(\"\\n*************** Most important features *************************\")\n",
    "print('As per PC 1:\\n', (dataset_pca[dataset_pca > 0.3].iloc[0]).dropna())\n",
    "print('\\n\\nAs per PC 2:\\n', (dataset_pca[dataset_pca > 0.3].iloc[1]).dropna())\n",
    "print(\"\\n******************************************************************\")\n",
    "\n",
    "#return pca_2_result, pca_2"
   ]
  },
  {
   "cell_type": "code",
   "execution_count": 9,
   "metadata": {},
   "outputs": [
    {
     "name": "stdout",
     "output_type": "stream",
     "text": [
      "[[-0.88433664 -0.38598677]\n",
      " [ 2.61776072 -0.61625546]\n",
      " [-0.88433664 -0.38598677]\n",
      " ...\n",
      " [-2.04170584 -0.24917628]\n",
      " [ 0.5647941  -0.11993718]\n",
      " [ 1.40339115  6.57040537]]\n"
     ]
    }
   ],
   "source": [
    "print(pca_2_result)"
   ]
  },
  {
   "cell_type": "code",
   "execution_count": 10,
   "metadata": {},
   "outputs": [
    {
     "name": "stdout",
     "output_type": "stream",
     "text": [
      "PCA(n_components=2)\n"
     ]
    }
   ],
   "source": [
    "print(pca_2)"
   ]
  },
  {
   "cell_type": "code",
   "execution_count": 11,
   "metadata": {},
   "outputs": [
    {
     "name": "stderr",
     "output_type": "stream",
     "text": [
      "C:\\Users\\user\\anaconda3\\lib\\site-packages\\sklearn\\base.py:450: UserWarning: X does not have valid feature names, but PCA was fitted with feature names\n",
      "  warnings.warn(\n"
     ]
    }
   ],
   "source": [
    "# Fitting KMeans\n",
    "kmeans = KMeans(n_clusters=4)\n",
    "kmeans.fit(dataset_scaled)\n",
    "cluster_map = pd.DataFrame()\n",
    "cluster_map['data_index'] = dataset_scaled.index.values\n",
    "cluster_map['cluster'] = kmeans.labels_\n",
    "centroids = kmeans.cluster_centers_\n",
    "centroids_pca = pca_2.transform(centroids)"
   ]
  },
  {
   "cell_type": "code",
   "execution_count": 12,
   "metadata": {},
   "outputs": [
    {
     "data": {
      "text/html": [
       "<div>\n",
       "<style scoped>\n",
       "    .dataframe tbody tr th:only-of-type {\n",
       "        vertical-align: middle;\n",
       "    }\n",
       "\n",
       "    .dataframe tbody tr th {\n",
       "        vertical-align: top;\n",
       "    }\n",
       "\n",
       "    .dataframe thead th {\n",
       "        text-align: right;\n",
       "    }\n",
       "</style>\n",
       "<table border=\"1\" class=\"dataframe\">\n",
       "  <thead>\n",
       "    <tr style=\"text-align: right;\">\n",
       "      <th></th>\n",
       "      <th>data_index</th>\n",
       "      <th>cluster</th>\n",
       "    </tr>\n",
       "  </thead>\n",
       "  <tbody>\n",
       "    <tr>\n",
       "      <th>0</th>\n",
       "      <td>0</td>\n",
       "      <td>0</td>\n",
       "    </tr>\n",
       "    <tr>\n",
       "      <th>2</th>\n",
       "      <td>2</td>\n",
       "      <td>0</td>\n",
       "    </tr>\n",
       "    <tr>\n",
       "      <th>4</th>\n",
       "      <td>4</td>\n",
       "      <td>0</td>\n",
       "    </tr>\n",
       "    <tr>\n",
       "      <th>5</th>\n",
       "      <td>5</td>\n",
       "      <td>0</td>\n",
       "    </tr>\n",
       "    <tr>\n",
       "      <th>6</th>\n",
       "      <td>6</td>\n",
       "      <td>0</td>\n",
       "    </tr>\n",
       "    <tr>\n",
       "      <th>...</th>\n",
       "      <td>...</td>\n",
       "      <td>...</td>\n",
       "    </tr>\n",
       "    <tr>\n",
       "      <th>215997</th>\n",
       "      <td>215997</td>\n",
       "      <td>0</td>\n",
       "    </tr>\n",
       "    <tr>\n",
       "      <th>215998</th>\n",
       "      <td>215998</td>\n",
       "      <td>0</td>\n",
       "    </tr>\n",
       "    <tr>\n",
       "      <th>215999</th>\n",
       "      <td>215999</td>\n",
       "      <td>0</td>\n",
       "    </tr>\n",
       "    <tr>\n",
       "      <th>216002</th>\n",
       "      <td>216002</td>\n",
       "      <td>0</td>\n",
       "    </tr>\n",
       "    <tr>\n",
       "      <th>216003</th>\n",
       "      <td>216003</td>\n",
       "      <td>0</td>\n",
       "    </tr>\n",
       "  </tbody>\n",
       "</table>\n",
       "<p>99349 rows × 2 columns</p>\n",
       "</div>"
      ],
      "text/plain": [
       "        data_index  cluster\n",
       "0                0        0\n",
       "2                2        0\n",
       "4                4        0\n",
       "5                5        0\n",
       "6                6        0\n",
       "...            ...      ...\n",
       "215997      215997        0\n",
       "215998      215998        0\n",
       "215999      215999        0\n",
       "216002      216002        0\n",
       "216003      216003        0\n",
       "\n",
       "[99349 rows x 2 columns]"
      ]
     },
     "execution_count": 12,
     "metadata": {},
     "output_type": "execute_result"
    }
   ],
   "source": [
    "cluster_map[cluster_map.cluster == 0]"
   ]
  },
  {
   "cell_type": "code",
   "execution_count": 13,
   "metadata": {},
   "outputs": [
    {
     "data": {
      "text/html": [
       "<div>\n",
       "<style scoped>\n",
       "    .dataframe tbody tr th:only-of-type {\n",
       "        vertical-align: middle;\n",
       "    }\n",
       "\n",
       "    .dataframe tbody tr th {\n",
       "        vertical-align: top;\n",
       "    }\n",
       "\n",
       "    .dataframe thead th {\n",
       "        text-align: right;\n",
       "    }\n",
       "</style>\n",
       "<table border=\"1\" class=\"dataframe\">\n",
       "  <thead>\n",
       "    <tr style=\"text-align: right;\">\n",
       "      <th></th>\n",
       "      <th>data_index</th>\n",
       "      <th>cluster</th>\n",
       "    </tr>\n",
       "  </thead>\n",
       "  <tbody>\n",
       "    <tr>\n",
       "      <th>0</th>\n",
       "      <td>0</td>\n",
       "      <td>0</td>\n",
       "    </tr>\n",
       "    <tr>\n",
       "      <th>2</th>\n",
       "      <td>2</td>\n",
       "      <td>0</td>\n",
       "    </tr>\n",
       "    <tr>\n",
       "      <th>4</th>\n",
       "      <td>4</td>\n",
       "      <td>0</td>\n",
       "    </tr>\n",
       "    <tr>\n",
       "      <th>5</th>\n",
       "      <td>5</td>\n",
       "      <td>0</td>\n",
       "    </tr>\n",
       "    <tr>\n",
       "      <th>6</th>\n",
       "      <td>6</td>\n",
       "      <td>0</td>\n",
       "    </tr>\n",
       "    <tr>\n",
       "      <th>...</th>\n",
       "      <td>...</td>\n",
       "      <td>...</td>\n",
       "    </tr>\n",
       "    <tr>\n",
       "      <th>215997</th>\n",
       "      <td>215997</td>\n",
       "      <td>0</td>\n",
       "    </tr>\n",
       "    <tr>\n",
       "      <th>215998</th>\n",
       "      <td>215998</td>\n",
       "      <td>0</td>\n",
       "    </tr>\n",
       "    <tr>\n",
       "      <th>215999</th>\n",
       "      <td>215999</td>\n",
       "      <td>0</td>\n",
       "    </tr>\n",
       "    <tr>\n",
       "      <th>216002</th>\n",
       "      <td>216002</td>\n",
       "      <td>0</td>\n",
       "    </tr>\n",
       "    <tr>\n",
       "      <th>216003</th>\n",
       "      <td>216003</td>\n",
       "      <td>0</td>\n",
       "    </tr>\n",
       "  </tbody>\n",
       "</table>\n",
       "<p>99349 rows × 2 columns</p>\n",
       "</div>"
      ],
      "text/plain": [
       "        data_index  cluster\n",
       "0                0        0\n",
       "2                2        0\n",
       "4                4        0\n",
       "5                5        0\n",
       "6                6        0\n",
       "...            ...      ...\n",
       "215997      215997        0\n",
       "215998      215998        0\n",
       "215999      215999        0\n",
       "216002      216002        0\n",
       "216003      216003        0\n",
       "\n",
       "[99349 rows x 2 columns]"
      ]
     },
     "execution_count": 13,
     "metadata": {},
     "output_type": "execute_result"
    }
   ],
   "source": [
    "cluster_map[cluster_map.cluster == 0]"
   ]
  },
  {
   "cell_type": "code",
   "execution_count": null,
   "metadata": {},
   "outputs": [],
   "source": [
    "cluster_map[cluster_map.cluster == 2]"
   ]
  },
  {
   "cell_type": "code",
   "execution_count": null,
   "metadata": {},
   "outputs": [],
   "source": [
    "cluster_map[cluster_map.cluster == 3]"
   ]
  },
  {
   "cell_type": "code",
   "execution_count": null,
   "metadata": {},
   "outputs": [],
   "source": [
    "# Visualizing the clusters\n",
    " # ------------------ Using Matplotlib for plotting-----------------------\n",
    "x = pca_2_result[:, 0]\n",
    "y = pca_2_result[:, 1] \n",
    "\n",
    "label = kmeans.labels_\n",
    "        \n",
    "plt.figure(figsize=(14,7), dpi=1500)\n",
    "plt.scatter(x, y, c=label, alpha=0.6, s=200, edgecolors=\"black\")  # plot different colors per cluster\n",
    "plt.title('Student clusters')\n",
    "plt.xlabel('First Principal Component')\n",
    "plt.ylabel('Second Principal Component')\n",
    "\n",
    "plt.scatter(centroids_pca[:, 0], centroids_pca[:, 1], marker='X', s=200, linewidths=1.5,color='red', edgecolors=\"black\", lw=1.5)\n",
    "\n",
    "plt.show()\n",
    "plt.savefig('clusters.png')"
   ]
  },
  {
   "cell_type": "code",
   "execution_count": null,
   "metadata": {},
   "outputs": [],
   "source": [
    "# Nice Pythonic way to get the indices of the points for each corresponding cluster\n",
    "mydict = {i: np.where(kmeans.labels_ == i)[0] for i in range(kmeans.n_clusters)}\n",
    "\n",
    "# Transform this dictionary into list (if you need a list as result)\n",
    "dictlist = []\n",
    "for key, value in mydict.items():\n",
    "    temp = [key,value]\n",
    "    dictlist.append(temp)\n",
    "    \n",
    "print (*dictlist[0], sep=\"\\n\")"
   ]
  },
  {
   "cell_type": "code",
   "execution_count": null,
   "metadata": {},
   "outputs": [],
   "source": [
    "import pandas\n",
    "pd = pandas.DataFrame(dictlist[0])\n",
    "pd.to_csv(\"mylist1.csv\")"
   ]
  },
  {
   "cell_type": "code",
   "execution_count": null,
   "metadata": {},
   "outputs": [],
   "source": [
    "print(*dictlist[0])"
   ]
  }
 ],
 "metadata": {
  "kernelspec": {
   "display_name": "Python 3",
   "language": "python",
   "name": "python3"
  },
  "language_info": {
   "codemirror_mode": {
    "name": "ipython",
    "version": 3
   },
   "file_extension": ".py",
   "mimetype": "text/x-python",
   "name": "python",
   "nbconvert_exporter": "python",
   "pygments_lexer": "ipython3",
   "version": "3.8.3"
  }
 },
 "nbformat": 4,
 "nbformat_minor": 4
}
