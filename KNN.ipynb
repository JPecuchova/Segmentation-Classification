{
 "cells": [
  {
   "cell_type": "code",
   "execution_count": 1,
   "metadata": {},
   "outputs": [
    {
     "data": {
      "text/html": [
       "<div>\n",
       "<style scoped>\n",
       "    .dataframe tbody tr th:only-of-type {\n",
       "        vertical-align: middle;\n",
       "    }\n",
       "\n",
       "    .dataframe tbody tr th {\n",
       "        vertical-align: top;\n",
       "    }\n",
       "\n",
       "    .dataframe thead th {\n",
       "        text-align: right;\n",
       "    }\n",
       "</style>\n",
       "<table border=\"1\" class=\"dataframe\">\n",
       "  <thead>\n",
       "    <tr style=\"text-align: right;\">\n",
       "      <th></th>\n",
       "      <th>id</th>\n",
       "      <th>component</th>\n",
       "      <th>action</th>\n",
       "      <th>target</th>\n",
       "      <th>objectid</th>\n",
       "      <th>edulevel</th>\n",
       "      <th>contextid</th>\n",
       "      <th>contextlevel</th>\n",
       "      <th>contextinstanceid</th>\n",
       "      <th>userid</th>\n",
       "      <th>courseid</th>\n",
       "      <th>anonymous</th>\n",
       "      <th>timecreated</th>\n",
       "      <th>cluster</th>\n",
       "    </tr>\n",
       "  </thead>\n",
       "  <tbody>\n",
       "    <tr>\n",
       "      <th>0</th>\n",
       "      <td>3</td>\n",
       "      <td>mod_book</td>\n",
       "      <td>viewed</td>\n",
       "      <td>chapter</td>\n",
       "      <td>31566.0</td>\n",
       "      <td>2</td>\n",
       "      <td>105734</td>\n",
       "      <td>70</td>\n",
       "      <td>67525</td>\n",
       "      <td>14744</td>\n",
       "      <td>1089</td>\n",
       "      <td>0</td>\n",
       "      <td>1420079066</td>\n",
       "      <td>0</td>\n",
       "    </tr>\n",
       "    <tr>\n",
       "      <th>1</th>\n",
       "      <td>11</td>\n",
       "      <td>mod_book</td>\n",
       "      <td>viewed</td>\n",
       "      <td>course_module</td>\n",
       "      <td>2294.0</td>\n",
       "      <td>2</td>\n",
       "      <td>66321</td>\n",
       "      <td>70</td>\n",
       "      <td>41549</td>\n",
       "      <td>14731</td>\n",
       "      <td>630</td>\n",
       "      <td>0</td>\n",
       "      <td>1420100897</td>\n",
       "      <td>0</td>\n",
       "    </tr>\n",
       "    <tr>\n",
       "      <th>2</th>\n",
       "      <td>12</td>\n",
       "      <td>mod_book</td>\n",
       "      <td>viewed</td>\n",
       "      <td>chapter</td>\n",
       "      <td>13546.0</td>\n",
       "      <td>2</td>\n",
       "      <td>66321</td>\n",
       "      <td>70</td>\n",
       "      <td>41549</td>\n",
       "      <td>14731</td>\n",
       "      <td>630</td>\n",
       "      <td>0</td>\n",
       "      <td>1420100897</td>\n",
       "      <td>0</td>\n",
       "    </tr>\n",
       "    <tr>\n",
       "      <th>3</th>\n",
       "      <td>13</td>\n",
       "      <td>mod_book</td>\n",
       "      <td>viewed</td>\n",
       "      <td>chapter</td>\n",
       "      <td>13547.0</td>\n",
       "      <td>2</td>\n",
       "      <td>66321</td>\n",
       "      <td>70</td>\n",
       "      <td>41549</td>\n",
       "      <td>14731</td>\n",
       "      <td>630</td>\n",
       "      <td>0</td>\n",
       "      <td>1420100918</td>\n",
       "      <td>0</td>\n",
       "    </tr>\n",
       "    <tr>\n",
       "      <th>4</th>\n",
       "      <td>16</td>\n",
       "      <td>mod_book</td>\n",
       "      <td>viewed</td>\n",
       "      <td>course_module</td>\n",
       "      <td>2293.0</td>\n",
       "      <td>2</td>\n",
       "      <td>66331</td>\n",
       "      <td>70</td>\n",
       "      <td>41540</td>\n",
       "      <td>14731</td>\n",
       "      <td>630</td>\n",
       "      <td>0</td>\n",
       "      <td>1420102170</td>\n",
       "      <td>0</td>\n",
       "    </tr>\n",
       "  </tbody>\n",
       "</table>\n",
       "</div>"
      ],
      "text/plain": [
       "   id component  action         target  objectid  edulevel  contextid  \\\n",
       "0   3  mod_book  viewed        chapter   31566.0         2     105734   \n",
       "1  11  mod_book  viewed  course_module    2294.0         2      66321   \n",
       "2  12  mod_book  viewed        chapter   13546.0         2      66321   \n",
       "3  13  mod_book  viewed        chapter   13547.0         2      66321   \n",
       "4  16  mod_book  viewed  course_module    2293.0         2      66331   \n",
       "\n",
       "   contextlevel  contextinstanceid  userid  courseid  anonymous  timecreated  \\\n",
       "0            70              67525   14744      1089          0   1420079066   \n",
       "1            70              41549   14731       630          0   1420100897   \n",
       "2            70              41549   14731       630          0   1420100897   \n",
       "3            70              41549   14731       630          0   1420100918   \n",
       "4            70              41540   14731       630          0   1420102170   \n",
       "\n",
       "   cluster  \n",
       "0        0  \n",
       "1        0  \n",
       "2        0  \n",
       "3        0  \n",
       "4        0  "
      ]
     },
     "execution_count": 1,
     "metadata": {},
     "output_type": "execute_result"
    }
   ],
   "source": [
    "import pandas as pd\n",
    "# Importing and cleaning the data\n",
    "data = pd.read_csv('lab_courses_2015.csv', sep=';')\n",
    "data.head()"
   ]
  },
  {
   "cell_type": "code",
   "execution_count": 2,
   "metadata": {},
   "outputs": [],
   "source": [
    "# replacing values for component\n",
    "data['component'].replace(['assignsubmission_comments', \n",
    "                           'assignsubmission_file', \n",
    "                           'assignsubmission_onlinetext', \n",
    "                           'booktool_print', \n",
    "                           'core', \n",
    "                           'gradereport_overview', \n",
    "                           'gradereport_user', \n",
    "                           'mod_assign', \n",
    "                           'mod_book',\n",
    "                           'mod_data',\n",
    "                           'mod_feedback',\n",
    "                           'mod_folder',\n",
    "                           'mod_forum',\n",
    "                           'mod_glossary', \n",
    "                           'mod_choice', \n",
    "                           'mod_page', \n",
    "                           'mod_quiz', \n",
    "                           'mod_resource', \n",
    "                           'mod_url'],\n",
    "                        [0, 1, 2, 3, 4, 5, 6, 7, 8, 9, 10, 11, 12, 13, 14, 15, 16, 17, 18], inplace=True)"
   ]
  },
  {
   "cell_type": "code",
   "execution_count": 3,
   "metadata": {},
   "outputs": [],
   "source": [
    "# replacing values for action\n",
    "data['action'].replace(['abandoned', \n",
    "                        'created', \n",
    "                        'deleted', \n",
    "                        'printed', \n",
    "                        'core', \n",
    "                        'searched', \n",
    "                        'started', \n",
    "                        'submitted', \n",
    "                        'updated',\n",
    "                        'uploaded',\n",
    "                        'viewed',\n",
    "                           ],\n",
    "                        [0, 1, 2, 3, 4, 5, 6, 7, 8, 9, 10], inplace=True)"
   ]
  },
  {
   "cell_type": "code",
   "execution_count": 4,
   "metadata": {},
   "outputs": [],
   "source": [
    "# replacing values for target\n",
    "data['target'].replace(['assessable', \n",
    "                        'attempt', \n",
    "                        'book', \n",
    "                        'comment', \n",
    "                        'course', \n",
    "                        'course_module', \n",
    "                        'course_module_completion', \n",
    "                        'discussion', \n",
    "                        'discussion_subscription',\n",
    "                        'entry',\n",
    "                        'grade_report',\n",
    "                        'chapter', \n",
    "                        'post', \n",
    "                        'response', \n",
    "                        'submission', \n",
    "                        'subscription'],\n",
    "                        [0, 1, 2, 3, 4, 5, 6, 7, 8, 9, 10, 11, 12, 13, 14, 15], inplace=True)"
   ]
  },
  {
   "cell_type": "code",
   "execution_count": 5,
   "metadata": {},
   "outputs": [
    {
     "name": "stdout",
     "output_type": "stream",
     "text": [
      "0.10.1\n"
     ]
    }
   ],
   "source": [
    "# check version number\n",
    "import imblearn\n",
    "print(imblearn.__version__)"
   ]
  },
  {
   "cell_type": "code",
   "execution_count": 6,
   "metadata": {},
   "outputs": [
    {
     "name": "stderr",
     "output_type": "stream",
     "text": [
      "C:\\Users\\jpecu\\anaconda3\\lib\\site-packages\\sklearn\\preprocessing\\_label.py:116: DataConversionWarning: A column-vector y was passed when a 1d array was expected. Please change the shape of y to (n_samples, ), for example using ravel().\n",
      "  y = column_or_1d(y, warn=True)\n"
     ]
    }
   ],
   "source": [
    "from collections import Counter\n",
    "from matplotlib import pyplot\n",
    "from sklearn.preprocessing import LabelEncoder\n",
    "\n",
    "# split into input and output elements\n",
    "X = data[['component', 'action', 'target', 'contextid', 'contextlevel', 'contextinstanceid', 'timecreated']]\n",
    "y = data[['cluster']]\n",
    "\n",
    "# label encode the target variable\n",
    "y = LabelEncoder().fit_transform(y)\n",
    "\n",
    "# summarize distribution\n",
    "counter = Counter(y)\n",
    "for k,v in counter.items():\n",
    "    per = v / len(y) * 100"
   ]
  },
  {
   "cell_type": "code",
   "execution_count": 7,
   "metadata": {},
   "outputs": [],
   "source": [
    "from imblearn.under_sampling import NearMiss\n",
    "\n",
    "# define the undersampling method\n",
    "undersample = NearMiss(version=2, n_neighbors=3)\n",
    "\n",
    "# transform the dataset\n",
    "X, y = undersample.fit_resample(X, y)\n",
    "\n",
    "# summarize distribution\n",
    "counter = Counter(y)\n",
    "for k,v in counter.items():\n",
    "    per = v / len(y) * 100"
   ]
  },
  {
   "cell_type": "code",
   "execution_count": 8,
   "metadata": {},
   "outputs": [],
   "source": [
    "from sklearn.model_selection import train_test_split\n",
    "X_train, X_test, y_train, y_test = train_test_split(X, y, test_size = 0.25, stratify=y)"
   ]
  },
  {
   "cell_type": "code",
   "execution_count": 9,
   "metadata": {},
   "outputs": [],
   "source": [
    "from sklearn.neighbors import KNeighborsClassifier\n",
    "\n",
    "model_knn = KNeighborsClassifier(n_neighbors=5, weights='uniform', algorithm='auto', leaf_size=30)\n",
    "model_knn.fit(X_train, y_train)\n",
    "y_pred = model_knn.predict(X_test)"
   ]
  },
  {
   "cell_type": "code",
   "execution_count": 10,
   "metadata": {},
   "outputs": [
    {
     "name": "stdout",
     "output_type": "stream",
     "text": [
      "              precision    recall  f1-score   support\n",
      "\n",
      "           0       0.96      0.97      0.96       675\n",
      "           1       1.00      1.00      1.00       674\n",
      "           2       0.92      0.96      0.94       675\n",
      "           3       0.99      0.93      0.96       675\n",
      "\n",
      "    accuracy                           0.96      2699\n",
      "   macro avg       0.97      0.96      0.96      2699\n",
      "weighted avg       0.97      0.96      0.96      2699\n",
      "\n"
     ]
    }
   ],
   "source": [
    "from sklearn.metrics import classification_report\n",
    "print(classification_report(y_test, y_pred))"
   ]
  },
  {
   "cell_type": "code",
   "execution_count": 11,
   "metadata": {},
   "outputs": [
    {
     "name": "stdout",
     "output_type": "stream",
     "text": [
      "0.964801778436458\n"
     ]
    }
   ],
   "source": [
    "from sklearn.metrics import accuracy_score\n",
    "print(accuracy_score(y_test, y_pred))"
   ]
  }
 ],
 "metadata": {
  "kernelspec": {
   "display_name": "Python 3 (ipykernel)",
   "language": "python",
   "name": "python3"
  },
  "language_info": {
   "codemirror_mode": {
    "name": "ipython",
    "version": 3
   },
   "file_extension": ".py",
   "mimetype": "text/x-python",
   "name": "python",
   "nbconvert_exporter": "python",
   "pygments_lexer": "ipython3",
   "version": "3.10.9"
  }
 },
 "nbformat": 4,
 "nbformat_minor": 4
}
