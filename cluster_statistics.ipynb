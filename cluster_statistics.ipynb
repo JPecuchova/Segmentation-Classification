{
 "cells": [
  {
   "cell_type": "code",
   "execution_count": 1,
   "metadata": {},
   "outputs": [
    {
     "name": "stdout",
     "output_type": "stream",
     "text": [
      "Requirement already satisfied: yellowbrick in c:\\users\\user\\anaconda3\\lib\\site-packages (1.5)Note: you may need to restart the kernel to use updated packages.\n",
      "Requirement already satisfied: scikit-learn>=1.0.0 in c:\\users\\user\\anaconda3\\lib\\site-packages (from yellowbrick) (1.1.2)\n",
      "Requirement already satisfied: matplotlib!=3.0.0,>=2.0.2 in c:\\users\\user\\anaconda3\\lib\\site-packages (from yellowbrick) (3.2.2)\n",
      "\n",
      "Requirement already satisfied: cycler>=0.10.0 in c:\\users\\user\\anaconda3\\lib\\site-packages (from yellowbrick) (0.10.0)\n",
      "Requirement already satisfied: numpy>=1.16.0 in c:\\users\\user\\anaconda3\\lib\\site-packages (from yellowbrick) (1.21.4)\n",
      "Requirement already satisfied: scipy>=1.0.0 in c:\\users\\user\\anaconda3\\lib\\site-packages (from yellowbrick) (1.5.0)\n",
      "Requirement already satisfied: joblib>=1.0.0 in c:\\users\\user\\anaconda3\\lib\\site-packages (from scikit-learn>=1.0.0->yellowbrick) (1.1.0)\n",
      "Requirement already satisfied: threadpoolctl>=2.0.0 in c:\\users\\user\\anaconda3\\lib\\site-packages (from scikit-learn>=1.0.0->yellowbrick) (2.1.0)\n",
      "Requirement already satisfied: kiwisolver>=1.0.1 in c:\\users\\user\\anaconda3\\lib\\site-packages (from matplotlib!=3.0.0,>=2.0.2->yellowbrick) (1.2.0)\n",
      "Requirement already satisfied: pyparsing!=2.0.4,!=2.1.2,!=2.1.6,>=2.0.1 in c:\\users\\user\\anaconda3\\lib\\site-packages (from matplotlib!=3.0.0,>=2.0.2->yellowbrick) (2.4.7)\n",
      "Requirement already satisfied: python-dateutil>=2.1 in c:\\users\\user\\anaconda3\\lib\\site-packages (from matplotlib!=3.0.0,>=2.0.2->yellowbrick) (2.8.1)\n",
      "Requirement already satisfied: six in c:\\users\\user\\anaconda3\\lib\\site-packages (from cycler>=0.10.0->yellowbrick) (1.15.0)\n"
     ]
    }
   ],
   "source": [
    "pip install yellowbrick"
   ]
  },
  {
   "cell_type": "code",
   "execution_count": 2,
   "metadata": {},
   "outputs": [
    {
     "name": "stdout",
     "output_type": "stream",
     "text": [
      "Requirement already satisfied: data-science-utils in c:\\users\\user\\anaconda3\\lib\\site-packages (1.7.1)Note: you may need to restart the kernel to use updated packages.\n",
      "Requirement already satisfied: joblib>=0.12 in c:\\users\\user\\anaconda3\\lib\\site-packages (from data-science-utils) (1.1.0)\n",
      "Requirement already satisfied: scipy>=1.0.0 in c:\\users\\user\\anaconda3\\lib\\site-packages (from data-science-utils) (1.5.0)\n",
      "Requirement already satisfied: pandas>=0.23.0 in c:\\users\\user\\anaconda3\\lib\\site-packages (from data-science-utils) (1.0.5)\n",
      "Requirement already satisfied: scikit-learn>=1.0.0 in c:\\users\\user\\anaconda3\\lib\\site-packages (from data-science-utils) (1.1.2)\n",
      "Requirement already satisfied: numpy>=1.3 in c:\\users\\user\\anaconda3\\lib\\site-packages (from data-science-utils) (1.21.4)\n",
      "Requirement already satisfied: matplotlib>2.02 in c:\\users\\user\\anaconda3\\lib\\site-packages (from data-science-utils) (3.2.2)\n",
      "Requirement already satisfied: pydotplus>=2.0.2 in c:\\users\\user\\anaconda3\\lib\\site-packages (from data-science-utils) (2.0.2)\n",
      "Requirement already satisfied: seaborn>=0.8.0 in c:\\users\\user\\anaconda3\\lib\\site-packages (from data-science-utils) (0.10.1)\n",
      "Requirement already satisfied: python-dateutil>=2.6.1 in c:\\users\\user\\anaconda3\\lib\\site-packages (from pandas>=0.23.0->data-science-utils) (2.8.1)\n",
      "Requirement already satisfied: pytz>=2017.2 in c:\\users\\user\\anaconda3\\lib\\site-packages (from pandas>=0.23.0->data-science-utils) (2020.1)\n",
      "Requirement already satisfied: threadpoolctl>=2.0.0 in c:\\users\\user\\anaconda3\\lib\\site-packages (from scikit-learn>=1.0.0->data-science-utils) (2.1.0)\n",
      "Requirement already satisfied: kiwisolver>=1.0.1 in c:\\users\\user\\anaconda3\\lib\\site-packages (from matplotlib>2.02->data-science-utils) (1.2.0)\n",
      "Requirement already satisfied: cycler>=0.10 in c:\\users\\user\\anaconda3\\lib\\site-packages (from matplotlib>2.02->data-science-utils) (0.10.0)\n",
      "Requirement already satisfied: pyparsing!=2.0.4,!=2.1.2,!=2.1.6,>=2.0.1 in c:\\users\\user\\anaconda3\\lib\\site-packages (from matplotlib>2.02->data-science-utils) (2.4.7)\n",
      "Requirement already satisfied: six>=1.5 in c:\\users\\user\\anaconda3\\lib\\site-packages (from python-dateutil>=2.6.1->pandas>=0.23.0->data-science-utils) (1.15.0)\n",
      "\n"
     ]
    }
   ],
   "source": [
    "pip install data-science-utils"
   ]
  },
  {
   "cell_type": "code",
   "execution_count": 3,
   "metadata": {},
   "outputs": [
    {
     "name": "stdout",
     "output_type": "stream",
     "text": [
      "Requirement already satisfied: numpy==1.21.4 in c:\\users\\user\\anaconda3\\lib\\site-packages (1.21.4)\n",
      "Note: you may need to restart the kernel to use updated packages.\n"
     ]
    }
   ],
   "source": [
    "pip install numpy==1.21.4"
   ]
  },
  {
   "cell_type": "code",
   "execution_count": 4,
   "metadata": {},
   "outputs": [],
   "source": [
    "import pandas as pd\n",
    "import numpy as np\n",
    "from sklearn.preprocessing import LabelEncoder\n",
    "import seaborn as sns\n",
    "\n",
    "from sklearn.preprocessing import StandardScaler\n",
    "from sklearn.cluster import KMeans"
   ]
  },
  {
   "cell_type": "code",
   "execution_count": 5,
   "metadata": {},
   "outputs": [
    {
     "data": {
      "text/html": [
       "<div>\n",
       "<style scoped>\n",
       "    .dataframe tbody tr th:only-of-type {\n",
       "        vertical-align: middle;\n",
       "    }\n",
       "\n",
       "    .dataframe tbody tr th {\n",
       "        vertical-align: top;\n",
       "    }\n",
       "\n",
       "    .dataframe thead th {\n",
       "        text-align: right;\n",
       "    }\n",
       "</style>\n",
       "<table border=\"1\" class=\"dataframe\">\n",
       "  <thead>\n",
       "    <tr style=\"text-align: right;\">\n",
       "      <th></th>\n",
       "      <th>component</th>\n",
       "      <th>action</th>\n",
       "      <th>target</th>\n",
       "      <th>contextid</th>\n",
       "      <th>contextlevel</th>\n",
       "      <th>contextinstanceid</th>\n",
       "      <th>userid</th>\n",
       "      <th>courseid</th>\n",
       "      <th>timecreated</th>\n",
       "    </tr>\n",
       "  </thead>\n",
       "  <tbody>\n",
       "    <tr>\n",
       "      <th>0</th>\n",
       "      <td>5</td>\n",
       "      <td>10</td>\n",
       "      <td>5</td>\n",
       "      <td>105728</td>\n",
       "      <td>50</td>\n",
       "      <td>1089</td>\n",
       "      <td>14744</td>\n",
       "      <td>1089</td>\n",
       "      <td>1420079021</td>\n",
       "    </tr>\n",
       "    <tr>\n",
       "      <th>1</th>\n",
       "      <td>17</td>\n",
       "      <td>10</td>\n",
       "      <td>6</td>\n",
       "      <td>105844</td>\n",
       "      <td>70</td>\n",
       "      <td>67635</td>\n",
       "      <td>14744</td>\n",
       "      <td>1089</td>\n",
       "      <td>1420079038</td>\n",
       "    </tr>\n",
       "    <tr>\n",
       "      <th>2</th>\n",
       "      <td>5</td>\n",
       "      <td>10</td>\n",
       "      <td>5</td>\n",
       "      <td>105728</td>\n",
       "      <td>50</td>\n",
       "      <td>1089</td>\n",
       "      <td>14744</td>\n",
       "      <td>1089</td>\n",
       "      <td>1420079049</td>\n",
       "    </tr>\n",
       "    <tr>\n",
       "      <th>3</th>\n",
       "      <td>9</td>\n",
       "      <td>10</td>\n",
       "      <td>12</td>\n",
       "      <td>105734</td>\n",
       "      <td>70</td>\n",
       "      <td>67525</td>\n",
       "      <td>14744</td>\n",
       "      <td>1089</td>\n",
       "      <td>1420079066</td>\n",
       "    </tr>\n",
       "    <tr>\n",
       "      <th>4</th>\n",
       "      <td>5</td>\n",
       "      <td>10</td>\n",
       "      <td>5</td>\n",
       "      <td>106176</td>\n",
       "      <td>50</td>\n",
       "      <td>1094</td>\n",
       "      <td>10752</td>\n",
       "      <td>1094</td>\n",
       "      <td>1420100418</td>\n",
       "    </tr>\n",
       "  </tbody>\n",
       "</table>\n",
       "</div>"
      ],
      "text/plain": [
       "   component  action  target  contextid  contextlevel  contextinstanceid  \\\n",
       "0          5      10       5     105728            50               1089   \n",
       "1         17      10       6     105844            70              67635   \n",
       "2          5      10       5     105728            50               1089   \n",
       "3          9      10      12     105734            70              67525   \n",
       "4          5      10       5     106176            50               1094   \n",
       "\n",
       "   userid  courseid  timecreated  \n",
       "0   14744      1089   1420079021  \n",
       "1   14744      1089   1420079038  \n",
       "2   14744      1089   1420079049  \n",
       "3   14744      1089   1420079066  \n",
       "4   10752      1094   1420100418  "
      ]
     },
     "execution_count": 5,
     "metadata": {},
     "output_type": "execute_result"
    }
   ],
   "source": [
    "data = pd.read_csv(\"lab_courses.csv\", sep=';')\n",
    "data.head()"
   ]
  },
  {
   "cell_type": "code",
   "execution_count": 6,
   "metadata": {},
   "outputs": [],
   "source": [
    "X = data[['component','action','target','contextid','contextlevel','contextinstanceid','timecreated']]"
   ]
  },
  {
   "cell_type": "code",
   "execution_count": 7,
   "metadata": {},
   "outputs": [],
   "source": [
    "y = data[['component','action','target','contextid','contextlevel','contextinstanceid','timecreated']]"
   ]
  },
  {
   "cell_type": "code",
   "execution_count": 8,
   "metadata": {},
   "outputs": [],
   "source": [
    "# Scaling is important when working with distance based \n",
    "# (e.g., euklidian) cluster algorithms\n",
    "from sklearn import preprocessing\n",
    "\n",
    "X_std = X.copy()\n",
    "\n",
    "# Since the fit_transform() strips the column headers\n",
    "# we add them after the transformation"
   ]
  },
  {
   "cell_type": "code",
   "execution_count": 9,
   "metadata": {},
   "outputs": [],
   "source": [
    "# Let's define max. 6 different cluster colors - if you like you can add here more.\n",
    "cluster_colors = ['#b4d2b1', '#568f8b', '#1d4a60', '#cd7e59', '#ddb247', '#d15252']"
   ]
  },
  {
   "cell_type": "code",
   "execution_count": 10,
   "metadata": {},
   "outputs": [
    {
     "data": {
      "text/plain": [
       "<Figure size 1080x1080 with 0 Axes>"
      ]
     },
     "metadata": {},
     "output_type": "display_data"
    }
   ],
   "source": [
    "from sklearn.metrics import silhouette_score, silhouette_samples\n",
    "import matplotlib.ticker as ticker\n",
    "import matplotlib.pyplot as plt\n",
    "\n",
    "\n",
    "# Plot for multiple ks\n",
    "k_max = 7\n",
    "ncols = 3\n",
    "# calculate number of rows\n",
    "nrows = k_max // ncols + (k_max % ncols > 0)\n",
    "# set figure size\n",
    "fig = plt.figure(figsize=(15,15))\n",
    "\n",
    "for k in range(3,k_max+1):\n",
    "    \n",
    "    # Apply clustering for k clusters\n",
    "    # Final decision\n",
    "   # Final decision\n",
    "    km = KMeans(n_clusters=4, \n",
    "            max_iter=300, \n",
    "            tol=1e-04, \n",
    "            init='k-means++', \n",
    "            n_init=10, \n",
    "            random_state=42, \n",
    "            algorithm='lloyd')\n",
    "\n",
    "    km_fit = km.fit(X_std)\n",
    "    \n"
   ]
  },
  {
   "cell_type": "code",
   "execution_count": 11,
   "metadata": {},
   "outputs": [
    {
     "data": {
      "image/png": "[encoded data removed]",
      "text/plain": [
       "<Figure size 864x288 with 3 Axes>"
      ]
     },
     "metadata": {
      "needs_background": "light"
     },
     "output_type": "display_data"
    }
   ],
   "source": [
    "from ds_utils.unsupervised import plot_cluster_cardinality, plot_cluster_magnitude, plot_magnitude_vs_cardinality\n",
    "from scipy.spatial.distance import euclidean\n",
    "import matplotlib.pyplot as plt\n",
    "\n",
    "fig, (ax1, ax2, ax3) = plt.subplots(1,3,figsize=(12,4))\n",
    "\n",
    "plot_cluster_cardinality(km_fit.labels_,\n",
    "                         ax=ax1,\n",
    "                         title=\"Cardinality\",\n",
    "                         color=cluster_colors\n",
    "                        )\n",
    "plot_cluster_magnitude(X_std,\n",
    "                       km_fit.labels_,\n",
    "                       km_fit.cluster_centers_,\n",
    "                       euclidean,\n",
    "                       ax=ax2,\n",
    "                       title=\"Magnitude\",\n",
    "                       color=cluster_colors\n",
    "                      )\n",
    "plot_magnitude_vs_cardinality(X_std,\n",
    "                              km_fit.labels_,\n",
    "                              km_fit.cluster_centers_,\n",
    "                              euclidean,\n",
    "                              color=cluster_colors[0:km_fit.n_clusters],\n",
    "                              ax=ax3, \n",
    "                              title=\"Magnitude vs. Cardinality\")\n",
    "\n",
    "fig.autofmt_xdate(rotation=0)\n",
    "plt.tight_layout()\n",
    "plt.show()"
   ]
  },
  {
   "cell_type": "code",
   "execution_count": 12,
   "metadata": {},
   "outputs": [
    {
     "name": "stderr",
     "output_type": "stream",
     "text": [
      "<ipython-input-12-ab0c3e56b071>:1: SettingWithCopyWarning: \n",
      "A value is trying to be set on a copy of a slice from a DataFrame.\n",
      "Try using .loc[row_indexer,col_indexer] = value instead\n",
      "\n",
      "See the caveats in the documentation: https://pandas.pydata.org/pandas-docs/stable/user_guide/indexing.html#returning-a-view-versus-a-copy\n",
      "  X['cluster'] = km.labels_\n"
     ]
    }
   ],
   "source": [
    "X['cluster'] = km.labels_\n",
    "X_std['cluster'] = km.labels_"
   ]
  },
  {
   "cell_type": "code",
   "execution_count": 13,
   "metadata": {},
   "outputs": [
    {
     "data": {
      "text/plain": [
       "2    59515\n",
       "1    56879\n",
       "3    52340\n",
       "0    47272\n",
       "Name: cluster, dtype: int64"
      ]
     },
     "execution_count": 13,
     "metadata": {},
     "output_type": "execute_result"
    }
   ],
   "source": [
    "X_std['cluster'].value_counts()"
   ]
  }
 ],
 "metadata": {
  "kernelspec": {
   "display_name": "Python 3",
   "language": "python",
   "name": "python3"
  },
  "language_info": {
   "codemirror_mode": {
    "name": "ipython",
    "version": 3
   },
   "file_extension": ".py",
   "mimetype": "text/x-python",
   "name": "python",
   "nbconvert_exporter": "python",
   "pygments_lexer": "ipython3",
   "version": "3.8.3"
  }
 },
 "nbformat": 4,
 "nbformat_minor": 4
}
